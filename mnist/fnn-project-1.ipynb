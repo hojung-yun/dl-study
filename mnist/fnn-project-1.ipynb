{
 "cells": [
  {
   "cell_type": "code",
   "execution_count": 1,
   "id": "af68a915",
   "metadata": {},
   "outputs": [
    {
     "name": "stdout",
     "output_type": "stream",
     "text": [
      "Package                  Version\r\n",
      "------------------------ -----------\r\n",
      "anyio                    3.6.2\r\n",
      "argon2-cffi              21.3.0\r\n",
      "argon2-cffi-bindings     21.2.0\r\n",
      "arrow                    1.2.3\r\n",
      "asttokens                2.0.5\r\n",
      "astunparse               1.6.3\r\n",
      "attrs                    22.1.0\r\n",
      "backcall                 0.2.0\r\n",
      "beautifulsoup4           4.11.1\r\n",
      "bleach                   5.0.1\r\n",
      "brotlipy                 0.7.0\r\n",
      "certifi                  2022.9.24\r\n",
      "cffi                     1.15.0\r\n",
      "chardet                  4.0.0\r\n",
      "charset-normalizer       2.0.4\r\n",
      "colorama                 0.4.4\r\n",
      "comm                     0.1.2\r\n",
      "conda                    22.9.0\r\n",
      "conda-build              3.22.0\r\n",
      "conda-content-trust      0+unknown\r\n",
      "conda-package-handling   1.8.1\r\n",
      "contourpy                1.0.6\r\n",
      "cryptography             36.0.0\r\n",
      "cycler                   0.11.0\r\n",
      "debugpy                  1.6.4\r\n",
      "decorator                5.1.1\r\n",
      "defusedxml               0.7.1\r\n",
      "entrypoints              0.4\r\n",
      "exceptiongroup           1.0.0\r\n",
      "executing                0.8.3\r\n",
      "expecttest               0.1.4\r\n",
      "fastjsonschema           2.16.2\r\n",
      "filelock                 3.6.0\r\n",
      "fonttools                4.38.0\r\n",
      "fqdn                     1.5.1\r\n",
      "future                   0.18.2\r\n",
      "glob2                    0.7\r\n",
      "hypothesis               6.56.4\r\n",
      "idna                     3.3\r\n",
      "importlib-metadata       5.1.0\r\n",
      "ipykernel                6.19.2\r\n",
      "ipython                  8.4.0\r\n",
      "ipython-genutils         0.2.0\r\n",
      "ipywidgets               8.0.3\r\n",
      "isoduration              20.11.0\r\n",
      "jedi                     0.18.1\r\n",
      "Jinja2                   3.1.2\r\n",
      "jsonpointer              2.3\r\n",
      "jsonschema               4.17.3\r\n",
      "jupyter                  1.0.0\r\n",
      "jupyter_client           7.4.8\r\n",
      "jupyter-console          6.4.4\r\n",
      "jupyter_core             5.1.0\r\n",
      "jupyter-events           0.5.0\r\n",
      "jupyter_server           2.0.1\r\n",
      "jupyter_server_terminals 0.4.2\r\n",
      "jupyterlab-pygments      0.2.2\r\n",
      "jupyterlab-widgets       3.0.4\r\n",
      "kiwisolver               1.4.4\r\n",
      "libarchive-c             2.9\r\n",
      "MarkupSafe               2.0.1\r\n",
      "matplotlib               3.6.2\r\n",
      "matplotlib-inline        0.1.6\r\n",
      "mistune                  2.0.4\r\n",
      "mkl-fft                  1.3.1\r\n",
      "mkl-random               1.2.2\r\n",
      "mkl-service              2.4.0\r\n",
      "mpmath                   1.2.1\r\n",
      "nbclassic                0.4.8\r\n",
      "nbclient                 0.7.2\r\n",
      "nbconvert                7.2.6\r\n",
      "nbformat                 5.7.0\r\n",
      "nest-asyncio             1.5.6\r\n",
      "notebook                 6.5.2\r\n",
      "notebook_shim            0.2.2\r\n",
      "numpy                    1.22.3\r\n",
      "packaging                22.0\r\n",
      "pandocfilters            1.5.0\r\n",
      "parso                    0.8.3\r\n",
      "pexpect                  4.8.0\r\n",
      "pickleshare              0.7.5\r\n",
      "Pillow                   9.0.1\r\n",
      "pip                      21.2.4\r\n",
      "pkginfo                  1.8.3\r\n",
      "platformdirs             2.6.0\r\n",
      "prometheus-client        0.15.0\r\n",
      "prompt-toolkit           3.0.20\r\n",
      "psutil                   5.8.0\r\n",
      "ptyprocess               0.7.0\r\n",
      "pure-eval                0.2.2\r\n",
      "pycosat                  0.6.3\r\n",
      "pycparser                2.21\r\n",
      "Pygments                 2.11.2\r\n",
      "pyOpenSSL                22.0.0\r\n",
      "pyparsing                3.0.9\r\n",
      "pyrsistent               0.19.2\r\n",
      "PySocks                  1.7.1\r\n",
      "python-dateutil          2.8.2\r\n",
      "python-json-logger       2.0.4\r\n",
      "pytz                     2022.1\r\n",
      "PyYAML                   6.0\r\n",
      "pyzmq                    24.0.1\r\n",
      "qtconsole                5.4.0\r\n",
      "QtPy                     2.3.0\r\n",
      "requests                 2.27.1\r\n",
      "rfc3339-validator        0.1.4\r\n",
      "rfc3986-validator        0.1.1\r\n",
      "ruamel-yaml-conda        0.15.100\r\n",
      "Send2Trash               1.8.0\r\n",
      "setuptools               61.2.0\r\n",
      "six                      1.16.0\r\n",
      "sniffio                  1.3.0\r\n",
      "sortedcontainers         2.4.0\r\n",
      "soupsieve                2.3.2.post1\r\n",
      "stack-data               0.2.0\r\n",
      "sympy                    1.11.1\r\n",
      "terminado                0.17.1\r\n",
      "tinycss2                 1.2.1\r\n",
      "toml                     0.10.2\r\n",
      "toolz                    0.11.2\r\n",
      "torch                    1.13.0\r\n",
      "torchtext                0.14.0\r\n",
      "torchvision              0.14.0\r\n",
      "tornado                  6.2\r\n",
      "tqdm                     4.63.0\r\n",
      "traitlets                5.7.1\r\n",
      "types-dataclasses        0.6.6\r\n",
      "typing_extensions        4.4.0\r\n",
      "uri-template             1.2.0\r\n",
      "urllib3                  1.26.8\r\n",
      "wcwidth                  0.2.5\r\n",
      "webcolors                1.12\r\n",
      "webencodings             0.5.1\r\n",
      "websocket-client         1.4.2\r\n",
      "wheel                    0.37.1\r\n",
      "widgetsnbextension       4.0.4\r\n",
      "zipp                     3.11.0\r\n"
     ]
    }
   ],
   "source": [
    "!pip list"
   ]
  },
  {
   "cell_type": "code",
   "execution_count": 1,
   "id": "cf67ffeb",
   "metadata": {},
   "outputs": [],
   "source": [
    "import numpy as np\n",
    "import matplotlib.pyplot as plt\n",
    "import torch\n",
    "import torchvision.datasets as datasets\n",
    "import torchvision.transforms as transforms\n",
    "%matplotlib inline"
   ]
  },
  {
   "cell_type": "code",
   "execution_count": 2,
   "id": "bbc87351",
   "metadata": {},
   "outputs": [],
   "source": [
    "root = './data'"
   ]
  },
  {
   "cell_type": "code",
   "execution_count": 3,
   "id": "e0e1a0f0",
   "metadata": {},
   "outputs": [],
   "source": [
    "transform = transforms.Compose([transforms.ToTensor(), transforms.Normalize(mean=(0.5,), std=(0.5,))])\n",
    "train_dataset = datasets.FashionMNIST(root, transform=transform, train=True, download=True)\n",
    "test_dataset = datasets.FashionMNIST(root, transform=transform, train=False, download=True)"
   ]
  },
  {
   "cell_type": "code",
   "execution_count": 35,
   "id": "171a4b82",
   "metadata": {},
   "outputs": [
    {
     "data": {
      "image/png": "[encoded data removed]",
      "text/plain": [
       "<Figure size 800x800 with 9 Axes>"
      ]
     },
     "metadata": {},
     "output_type": "display_data"
    }
   ],
   "source": [
    "labels_map = {\n",
    "    0: \"T-Shirt\",\n",
    "    1: \"Trouser\",\n",
    "    2: \"Pullover\",\n",
    "    3: \"Dress\",\n",
    "    4: \"Coat\",\n",
    "    5: \"Sandal\",\n",
    "    6: \"Shirt\",\n",
    "    7: \"Sneaker\",\n",
    "    8: \"Bag\",\n",
    "    9: \"Ankle Boot\",\n",
    "}\n",
    "\n",
    "cols, rows = 3, 3\n",
    "sample_idxs = torch.randint(len(train_dataset), (rows * cols,))\n",
    "\n",
    "figure = plt.figure(figsize=(8, 8))\n",
    "for i, sample_idx in enumerate(sample_idxs, start=1):\n",
    "    img, label = train_dataset[sample_idx]\n",
    "    figure.add_subplot(rows, cols, i)\n",
    "    plt.title(labels_map[label])\n",
    "    plt.axis(\"off\")\n",
    "    plt.imshow(img.squeeze(), cmap=\"gray\")\n",
    "plt.show()"
   ]
  },
  {
   "cell_type": "markdown",
   "id": "3709df68",
   "metadata": {},
   "source": [
    "# 완전연결신경망 네트워크 설계\n",
    "\n",
    "fashionMNIST 문제를 풀기 위한 완전연결신경망 네트워크를 설계한다.  \n",
    "여기서는 입력층 1개, 은닉층 1개, 출력층 1개로 이루어진 2층 신경망을 설계한다.  \n",
    "이 때, 출력층에서 활성화 함수는 softmax 함수를, 손실 함수는 CCE(categorical-cross entropy-error)를 사용한다."
   ]
  },
  {
   "cell_type": "code",
   "execution_count": 52,
   "id": "21365104",
   "metadata": {},
   "outputs": [],
   "source": [
    "# 계산 그래프를 정의하기 위한 계층 모듈 클래스들을 정의한다\n",
    "class Affine:\n",
    "    def __init__(self, w, b):\n",
    "        self.x = None\n",
    "        self.W = w\n",
    "        self.b = b\n",
    "        self.dW = None\n",
    "        self.db = None\n",
    "    \n",
    "    def forward(self, x):\n",
    "        self.x = x\n",
    "        out = np.dot(x, self.W)\n",
    "        out += self.b # broadcasting\n",
    "        \n",
    "        return out\n",
    "    \n",
    "    def backward(self, dout):\n",
    "        dX = np.dot(dout, self.W.T)\n",
    "        self.dW = np.dot(self.x.T, dout)\n",
    "        self.db = np.sum(dout, axis=0)\n",
    "        \n",
    "        return dX\n",
    "    \n",
    "\n",
    "class Relu:\n",
    "    def __init__(self):\n",
    "        self.mask = None\n",
    "    \n",
    "    def forward(self, x):\n",
    "        self.mask = (x <= 0)\n",
    "        out = x.copy() # 메서드에 인자로 시퀀스형 자료를 전달하는 경우 얕은 복사, 깊은 복사를 주의하자\n",
    "        out[self.mask] = 0\n",
    "        \n",
    "        return out\n",
    "    \n",
    "    def backward(self, dout):\n",
    "        dout[self.mask] = 0\n",
    "        \n",
    "        return dout\n",
    "\n",
    "class SoftmaxWithCrossEntropy:\n",
    "    def __init__(self):\n",
    "        self.y = None\n",
    "    \n",
    "    def softmax(self, x):\n",
    "        max_val = x.max()\n",
    "        x -= max_val # broadcasting\n",
    "        exp_x = np.exp(x)\n",
    "        sum_exp_x = np.sum(exp_x, axis=1)\n",
    "        \n",
    "        return exp_x / sum_exp_x.reshape(-1, 1)\n",
    "    \n",
    "    def cross_entropy(self, y, t):\n",
    "        delta = 1e-7\n",
    "        if y.ndim == 1:\n",
    "            y = y.reshape(1, y.size)\n",
    "            t = t.reshape(1, t.size)\n",
    "        \n",
    "        return -np.sum(t * np.log(y + delta)) / y.shape[0]\n",
    "    \n",
    "    def forward(self, x, t):\n",
    "        self.y = self.softmax(x)\n",
    "        loss = self.cross_entropy(self.y, t)\n",
    "        \n",
    "        return loss\n",
    "    \n",
    "    def backward(self, t):\n",
    "        \n",
    "        return (self.y - t) / self.y.shape[0]\n"
   ]
  },
  {
   "cell_type": "code",
   "execution_count": 69,
   "id": "1b2235cc",
   "metadata": {},
   "outputs": [],
   "source": [
    "from collections import OrderedDict\n",
    "\n",
    "\n",
    "# 신경망 정의\n",
    "class FNN:\n",
    "    def __init__(self, input_size, hidden_size, output_size):\n",
    "        self.input_size = input_size\n",
    "        self.hidden_size = hidden_size\n",
    "        self.output_size = output_size\n",
    "        self.params = {}\n",
    "        self.params['W1'] = np.random.randn(input_size, hidden_size)\n",
    "        self.params['b1'] = np.zeros(hidden_size)\n",
    "        self.params['W2'] = np.random.randn(hidden_size, output_size)\n",
    "        self.params['b2'] = np.zeros(output_size)\n",
    "        \n",
    "        self.layers = OrderedDict()\n",
    "        self.layers['Affine1'] = Affine(self.params['W1'], self.params['b1'])\n",
    "        self.layers['Relu1'] = Relu()\n",
    "        self.layers['Affine2'] = Affine(self.params['W2'], self.params['b2'])\n",
    "        \n",
    "        self.last_layer = SoftmaxWithCrossEntropy() # 실제 추론시에는 손실함수를 계산할 필요가 없다\n",
    "        \n",
    "        self.loss = None\n",
    "    \n",
    "    def predict(self, x):\n",
    "        for layer in self.layers.values():\n",
    "            x = layer.forward(x)\n",
    "        \n",
    "        return x\n",
    "        \n",
    "    def train(self, x, t):\n",
    "        y = self.predict(x)\n",
    "        t_enc = np.eye(self.output_size)[t] # one-hot-encoding\n",
    "        self.loss = self.last_layer.forward(y, t_enc)\n",
    "        \n",
    "        dout = self.last_layer.backward(t_enc)\n",
    "        layers = list(self.layers.values())\n",
    "        layers.reverse()\n",
    "        for layer in layers:\n",
    "            dout = layer.backward(dout)\n",
    "        \n",
    "        grads = {}\n",
    "        grads['W1'] = self.layers['Affine1'].dW\n",
    "        grads['b1'] = self.layers['Affine1'].db\n",
    "        grads['W2'] = self.layers['Affine2'].dW\n",
    "        grads['b2'] = self.layers['Affine2'].db\n",
    "        \n",
    "        return grads\n",
    "    \n",
    "    def accuracy(self, x, t):\n",
    "        y = self.predict(x)\n",
    "        y = np.argmax(y, axis=1)\n",
    "        accuracy = np.sum(y == t) / x.shape[0]\n",
    "        \n",
    "        return accuracy\n",
    "               "
   ]
  },
  {
   "cell_type": "code",
   "execution_count": 28,
   "id": "8476a82c",
   "metadata": {},
   "outputs": [],
   "source": [
    "X_train = np.array([train_data[0].numpy().reshape(-1) for train_data in train_dataset])\n",
    "y_train = np.array([train_data[1] for train_data in train_dataset])"
   ]
  },
  {
   "cell_type": "code",
   "execution_count": 23,
   "id": "a9170523",
   "metadata": {
    "scrolled": true
   },
   "outputs": [
    {
     "name": "stdout",
     "output_type": "stream",
     "text": [
      "X_train.shape: (60000, 784)\n",
      "y_train.shape: (60000,)\n"
     ]
    }
   ],
   "source": [
    "print(f\"X_train.shape: {X_train.shape}\")\n",
    "print(f\"y_train.shape: {y_train.shape}\")"
   ]
  },
  {
   "cell_type": "code",
   "execution_count": 29,
   "id": "d50c58af",
   "metadata": {},
   "outputs": [],
   "source": [
    "X_test = np.array([train_data[0].numpy().reshape(-1) for train_data in test_dataset])\n",
    "y_test = np.array([train_data[1] for train_data in test_dataset])"
   ]
  },
  {
   "cell_type": "code",
   "execution_count": 30,
   "id": "7e585acc",
   "metadata": {},
   "outputs": [
    {
     "name": "stdout",
     "output_type": "stream",
     "text": [
      "X_test.shape: (10000, 784)\n",
      "y_test.shape: (10000,)\n"
     ]
    }
   ],
   "source": [
    "print(f\"X_test.shape: {X_test.shape}\")\n",
    "print(f\"y_test.shape: {y_test.shape}\")"
   ]
  },
  {
   "cell_type": "code",
   "execution_count": 70,
   "id": "dc13d9ef",
   "metadata": {},
   "outputs": [],
   "source": [
    "input_size = 784\n",
    "hidden_size = 50\n",
    "output_size = 10\n",
    "iter_num = 10000\n",
    "batch_size = 64\n",
    "iter_per_epoch = np.ceil(X_train.shape[0] / batch_size)\n",
    "learning_rate = 0.01\n",
    "train_loss_list = []\n",
    "train_acc_list = []\n",
    "test_acc_list = []\n",
    "\n",
    "fnn = FNN(input_size, hidden_size, output_size)\n",
    "for i in range(iter_num):\n",
    "    batch_mask = np.random.choice(X_train.shape[0], batch_size)\n",
    "    X_batch = X_train[batch_mask]\n",
    "    y_batch = y_train[batch_mask]\n",
    "    \n",
    "    grad = fnn.train(X_batch, y_batch)\n",
    "    \n",
    "    for key in ('W1', 'b1', 'W2', 'b2'):\n",
    "        fnn.params[key] -= learning_rate * grad[key]\n",
    "    \n",
    "    train_loss_list.append(fnn.loss)\n",
    "    \n",
    "    if i % iter_per_epoch == 0:\n",
    "        train_acc = fnn.accuracy(X_train, y_train)\n",
    "        test_acc = fnn.accuracy(X_test, y_test)\n",
    "        train_acc_list.append(train_acc)\n",
    "        test_acc_list.append(test_acc)\n"
   ]
  },
  {
   "cell_type": "code",
   "execution_count": 71,
   "id": "75623cd5",
   "metadata": {},
   "outputs": [
    {
     "data": {
      "text/plain": [
       "[<matplotlib.lines.Line2D at 0x7fe61db63130>]"
      ]
     },
     "execution_count": 71,
     "metadata": {},
     "output_type": "execute_result"
    },
    {
     "data": {
      "image/png": "[encoded data removed]",
      "text/plain": [
       "<Figure size 640x480 with 1 Axes>"
      ]
     },
     "metadata": {},
     "output_type": "display_data"
    }
   ],
   "source": [
    "plt.plot(train_loss_list)"
   ]
  },
  {
   "cell_type": "code",
   "execution_count": 81,
   "id": "3f41a37f",
   "metadata": {},
   "outputs": [
    {
     "data": {
      "image/png": "[encoded data removed]",
      "text/plain": [
       "<Figure size 1200x600 with 2 Axes>"
      ]
     },
     "metadata": {},
     "output_type": "display_data"
    }
   ],
   "source": [
    "figure = plt.figure(figsize=(12, 6))\n",
    "figure.add_subplot(1, 2, 1)\n",
    "plt.plot(train_acc_list)\n",
    "figure.add_subplot(1, 2, 2)\n",
    "plt.plot(test_acc_list)\n",
    "plt.show()"
   ]
  },
  {
   "cell_type": "code",
   "execution_count": 77,
   "id": "1c54c303",
   "metadata": {
    "scrolled": true
   },
   "outputs": [
    {
     "data": {
      "text/plain": [
       "9"
      ]
     },
     "execution_count": 77,
     "metadata": {},
     "output_type": "execute_result"
    }
   ],
   "source": [
    "np.argmax(fnn.predict(X_test[0]))"
   ]
  },
  {
   "cell_type": "code",
   "execution_count": 78,
   "id": "f1c76590",
   "metadata": {},
   "outputs": [
    {
     "data": {
      "text/plain": [
       "9"
      ]
     },
     "execution_count": 78,
     "metadata": {},
     "output_type": "execute_result"
    }
   ],
   "source": [
    "y_test[0]"
   ]
  },
  {
   "cell_type": "code",
   "execution_count": 80,
   "id": "f2166ec9",
   "metadata": {},
   "outputs": [
    {
     "data": {
      "text/plain": [
       "<matplotlib.image.AxesImage at 0x7fe589640190>"
      ]
     },
     "execution_count": 80,
     "metadata": {},
     "output_type": "execute_result"
    },
    {
     "data": {
      "image/png": "[encoded data removed]",
      "text/plain": [
       "<Figure size 640x480 with 1 Axes>"
      ]
     },
     "metadata": {},
     "output_type": "display_data"
    }
   ],
   "source": [
    "plt.imshow(test_dataset[0][0].squeeze(), cmap=\"gray\")"
   ]
  },
  {
   "cell_type": "markdown",
   "id": "16f52a90",
   "metadata": {},
   "source": [
    "# 파이토치를 이용한 완전연결신경말 설계"
   ]
  },
  {
   "cell_type": "code",
   "execution_count": 69,
   "id": "44b0a19e",
   "metadata": {},
   "outputs": [],
   "source": [
    "# 하이퍼파라미터\n",
    "input_size = 784\n",
    "hidden_size = 50\n",
    "output_size = 10\n",
    "batch_size = 64\n",
    "learning_rate = 0.01\n",
    "iter_num = 10000\n",
    "iter_per_epoch = np.ceil(len(train_dataset) / batch_size)\n",
    "epochs = iter_num // iter_per_epoch"
   ]
  },
  {
   "cell_type": "code",
   "execution_count": 70,
   "id": "36c9a222",
   "metadata": {},
   "outputs": [],
   "source": [
    "from torch.utils.data import DataLoader\n",
    "\n",
    "\n",
    "train_loader = DataLoader(train_dataset, batch_size=batch_size, shuffle=True)\n",
    "test_loader = DataLoader(test_dataset, batch_size=batch_size, shuffle=False)"
   ]
  },
  {
   "cell_type": "code",
   "execution_count": 71,
   "id": "ceb6c6c9",
   "metadata": {},
   "outputs": [],
   "source": [
    "X_train = np.array([train_data[0].numpy().reshape(-1) for train_data in train_dataset])\n",
    "y_train = np.array([train_data[1] for train_data in train_dataset])"
   ]
  },
  {
   "cell_type": "code",
   "execution_count": 72,
   "id": "61e6c9b4",
   "metadata": {},
   "outputs": [],
   "source": [
    "X_test = np.array([train_data[0].numpy().reshape(-1) for train_data in test_dataset])\n",
    "y_test = np.array([train_data[1] for train_data in test_dataset])"
   ]
  },
  {
   "cell_type": "code",
   "execution_count": 160,
   "id": "5186cf49",
   "metadata": {},
   "outputs": [],
   "source": [
    "class FNN(torch.nn.Module):\n",
    "    def __init__(self):\n",
    "        super(FNN, self).__init__()\n",
    "        self.layer = torch.nn.Sequential(\n",
    "            torch.nn.Linear(input_size, hidden_size),\n",
    "            torch.nn.ReLU(),\n",
    "            torch.nn.Linear(hidden_size, output_size)\n",
    "        )\n",
    "        \n",
    "    def forward(self, x):\n",
    "        x = x.view(x.size(0), -1) # flatten\n",
    "        x_out = self.layer(x)\n",
    "        \n",
    "        return x_out\n",
    "    \n",
    "    def accuracy(self, x, t):\n",
    "        y = self.layer(x).detach().numpy()\n",
    "        y = np.argmax(y, axis=1)\n",
    "        accuracy = np.sum(y == t) / x.shape[0]\n",
    "        \n",
    "        return accuracy"
   ]
  },
  {
   "cell_type": "code",
   "execution_count": 161,
   "id": "4067332a",
   "metadata": {},
   "outputs": [
    {
     "data": {
      "text/plain": [
       "FNN(\n",
       "  (layer): Sequential(\n",
       "    (0): Linear(in_features=784, out_features=50, bias=True)\n",
       "    (1): ReLU()\n",
       "    (2): Linear(in_features=50, out_features=10, bias=True)\n",
       "  )\n",
       ")"
      ]
     },
     "execution_count": 161,
     "metadata": {},
     "output_type": "execute_result"
    }
   ],
   "source": [
    "def weights_init(m):\n",
    "    if isinstance(m, torch.nn.Linear):\n",
    "        torch.nn.init.normal_(m.weight)\n",
    "        torch.nn.init.zeros_(m.bias)\n",
    "        \n",
    "device = \"cuda\" if torch.cuda.is_available() else \"cpu\" \n",
    "model = FNN().to(device)\n",
    "model.apply(weights_init) # 가중치 초기화"
   ]
  },
  {
   "cell_type": "code",
   "execution_count": 162,
   "id": "8ff5d508",
   "metadata": {},
   "outputs": [],
   "source": [
    "criterion = torch.nn.CrossEntropyLoss() # 손실함수 정의\n",
    "optimizer = torch.optim.SGD(model.parameters(), lr=learning_rate) # 최적화 알고리즘 정의"
   ]
  },
  {
   "cell_type": "code",
   "execution_count": 163,
   "id": "121ba8e4",
   "metadata": {},
   "outputs": [],
   "source": [
    "model.train()\n",
    "train_loss_list = []\n",
    "train_acc_list = []\n",
    "test_acc_list = []\n",
    "for epoch in range(int(epochs)):\n",
    "    for i, (imgs, labels) in enumerate(train_loader):\n",
    "        imgs, labels = imgs.to(device), labels.to(device)\n",
    "        outputs = model(imgs)\n",
    "        loss = criterion(outputs, labels)\n",
    "        optimizer.zero_grad() # 중요\n",
    "        loss.backward()\n",
    "        optimizer.step()\n",
    "        \n",
    "        train_loss_list.append(loss.item())\n",
    "        \n",
    "        if i % iter_per_epoch == 0:\n",
    "            model.eval()\n",
    "            train_acc_list.append(model.accuracy(torch.Tensor(X_train), y_train))\n",
    "            test_acc_list.append(model.accuracy(torch.Tensor(X_test), y_test))\n",
    "            model.train()"
   ]
  },
  {
   "cell_type": "code",
   "execution_count": 164,
   "id": "299601e4",
   "metadata": {},
   "outputs": [
    {
     "data": {
      "text/plain": [
       "[<matplotlib.lines.Line2D at 0x7f0bed494bb0>]"
      ]
     },
     "execution_count": 164,
     "metadata": {},
     "output_type": "execute_result"
    },
    {
     "data": {
      "image/png": "[encoded data removed]",
      "text/plain": [
       "<Figure size 640x480 with 1 Axes>"
      ]
     },
     "metadata": {},
     "output_type": "display_data"
    }
   ],
   "source": [
    "plt.plot(train_loss_list)"
   ]
  },
  {
   "cell_type": "code",
   "execution_count": 165,
   "id": "13ccc1ef",
   "metadata": {},
   "outputs": [
    {
     "data": {
      "image/png": "[encoded data removed]",
      "text/plain": [
       "<Figure size 1200x600 with 2 Axes>"
      ]
     },
     "metadata": {},
     "output_type": "display_data"
    }
   ],
   "source": [
    "figure = plt.figure(figsize=(12, 6))\n",
    "figure.add_subplot(1, 2, 1)\n",
    "plt.plot(train_acc_list)\n",
    "figure.add_subplot(1, 2, 2)\n",
    "plt.plot(test_acc_list)\n",
    "plt.show()"
   ]
  },
  {
   "cell_type": "code",
   "execution_count": 168,
   "id": "66ee56f5",
   "metadata": {},
   "outputs": [
    {
     "data": {
      "text/plain": [
       "7"
      ]
     },
     "execution_count": 168,
     "metadata": {},
     "output_type": "execute_result"
    }
   ],
   "source": [
    "model.eval()\n",
    "np.argmax(model(test_dataset[9][0].unsqueeze(dim=0).to(device)).detach().numpy())"
   ]
  },
  {
   "cell_type": "code",
   "execution_count": 169,
   "id": "c08d92d5",
   "metadata": {},
   "outputs": [
    {
     "data": {
      "text/plain": [
       "7"
      ]
     },
     "execution_count": 169,
     "metadata": {},
     "output_type": "execute_result"
    }
   ],
   "source": [
    "test_dataset[9][1]"
   ]
  },
  {
   "cell_type": "code",
   "execution_count": 172,
   "id": "b2550aa4",
   "metadata": {},
   "outputs": [
    {
     "data": {
      "text/plain": [
       "<matplotlib.image.AxesImage at 0x7f0bed2c4fd0>"
      ]
     },
     "execution_count": 172,
     "metadata": {},
     "output_type": "execute_result"
    },
    {
     "data": {
      "image/png": "[encoded data removed]",
      "text/plain": [
       "<Figure size 640x480 with 1 Axes>"
      ]
     },
     "metadata": {},
     "output_type": "display_data"
    }
   ],
   "source": [
    "plt.imshow(test_dataset[9][0].squeeze(), cmap=\"gray\")"
   ]
  },
  {
   "cell_type": "markdown",
   "id": "e4dcfe4b",
   "metadata": {},
   "source": [
    "# 성능 높이기"
   ]
  },
  {
   "cell_type": "code",
   "execution_count": 1,
   "id": "cb9ddbc0",
   "metadata": {},
   "outputs": [],
   "source": [
    "import torch\n",
    "import torch.nn as nn\n",
    "import torchvision.datasets as datasets\n",
    "import torchvision.transforms as transforms\n",
    "from torch.utils.data import DataLoader\n",
    "from torch.optim import Adam\n",
    "import matplotlib.pyplot as plt\n",
    "%matplotlib inline"
   ]
  },
  {
   "cell_type": "code",
   "execution_count": 3,
   "id": "01e35b99",
   "metadata": {},
   "outputs": [],
   "source": [
    "root = './data'\n",
    "transform = transforms.Compose([transforms.ToTensor(), transforms.Normalize(mean=(0.5,), std=(0.5,))])\n",
    "train_dataset = datasets.FashionMNIST(root=root, train=True, transform=transform)\n",
    "test_dataset = datasets.FashionMNIST(root=root, train=False, transform=transform)\n",
    "train_loader = DataLoader(train_dataset, batch_size=64, shuffle=True)\n",
    "test_loader = DataLoader(test_dataset, batch_size=64, shuffle=False)"
   ]
  },
  {
   "cell_type": "code",
   "execution_count": 26,
   "id": "ee17a5e9",
   "metadata": {},
   "outputs": [],
   "source": [
    "class FNN(nn.Module):\n",
    "    def __init__(self):\n",
    "        super(FNN, self).__init__()\n",
    "        self.layer1 = nn.Sequential(\n",
    "            nn.Flatten(),\n",
    "            nn.Linear(784, 50),\n",
    "            nn.BatchNorm1d(50),\n",
    "            nn.ReLU()\n",
    "        )\n",
    "        self.layer2 = nn.Sequential(\n",
    "            nn.Linear(50, 10)\n",
    "        )\n",
    "        \n",
    "    def forward(self, x):\n",
    "        out = self.layer1(x)\n",
    "        out = self.layer2(out)\n",
    "        \n",
    "        return out"
   ]
  },
  {
   "cell_type": "code",
   "execution_count": 27,
   "id": "3ff00ca8",
   "metadata": {},
   "outputs": [],
   "source": [
    "def weights_init(m):\n",
    "    if isinstance(m, nn.Linear):\n",
    "        nn.init.xavier_normal_(m.weight)"
   ]
  },
  {
   "cell_type": "code",
   "execution_count": 28,
   "id": "e2a788e5",
   "metadata": {},
   "outputs": [
    {
     "data": {
      "text/plain": [
       "FNN(\n",
       "  (layer1): Sequential(\n",
       "    (0): Flatten(start_dim=1, end_dim=-1)\n",
       "    (1): Linear(in_features=784, out_features=50, bias=True)\n",
       "    (2): BatchNorm1d(50, eps=1e-05, momentum=0.1, affine=True, track_running_stats=True)\n",
       "    (3): ReLU()\n",
       "  )\n",
       "  (layer2): Sequential(\n",
       "    (0): Linear(in_features=50, out_features=10, bias=True)\n",
       "  )\n",
       ")"
      ]
     },
     "execution_count": 28,
     "metadata": {},
     "output_type": "execute_result"
    }
   ],
   "source": [
    "device = \"gpu\" if torch.cuda.is_available() else \"cpu\"\n",
    "model = FNN().to(device)\n",
    "model.apply(weights_init)"
   ]
  },
  {
   "cell_type": "code",
   "execution_count": 29,
   "id": "8bbfeeef",
   "metadata": {},
   "outputs": [
    {
     "name": "stdout",
     "output_type": "stream",
     "text": [
      "Test accuracy:  8.07%\n"
     ]
    }
   ],
   "source": [
    "model.eval()\n",
    "with torch.no_grad():\n",
    "    total = 0\n",
    "    correct = 0\n",
    "    for i, (imgs, labels) in enumerate(test_loader):\n",
    "        preds = model(imgs)\n",
    "        preds = torch.argmax(preds, dim=1)\n",
    "        correct += (preds == labels).sum().item()\n",
    "        total += imgs.size(0)\n",
    "\n",
    "print(f\"Test accuracy: {correct / total * 100: .2f}%\")"
   ]
  },
  {
   "cell_type": "code",
   "execution_count": 30,
   "id": "19e8e305",
   "metadata": {},
   "outputs": [],
   "source": [
    "criterion = nn.CrossEntropyLoss()\n",
    "optimizer = Adam(model.parameters(), lr=0.01)"
   ]
  },
  {
   "cell_type": "code",
   "execution_count": 31,
   "id": "271564bf",
   "metadata": {},
   "outputs": [],
   "source": [
    "model.train()\n",
    "train_loss_list = []\n",
    "for _ in range(10):\n",
    "    for i, (imgs, labels) in enumerate(train_loader):\n",
    "        imgs, labels = imgs.to(device), labels.to(device)\n",
    "        preds = model(imgs)\n",
    "        loss = criterion(preds, labels)\n",
    "        train_loss_list.append(loss.item())\n",
    "        optimizer.zero_grad()\n",
    "        loss.backward()\n",
    "        optimizer.step()"
   ]
  },
  {
   "cell_type": "code",
   "execution_count": 32,
   "id": "caf4f5cb",
   "metadata": {},
   "outputs": [
    {
     "data": {
      "text/plain": [
       "[<matplotlib.lines.Line2D at 0x7f03601bc580>]"
      ]
     },
     "execution_count": 32,
     "metadata": {},
     "output_type": "execute_result"
    },
    {
     "data": {
      "image/png": "[encoded data removed]",
      "text/plain": [
       "<Figure size 640x480 with 1 Axes>"
      ]
     },
     "metadata": {},
     "output_type": "display_data"
    }
   ],
   "source": [
    "plt.plot(train_loss_list)"
   ]
  },
  {
   "cell_type": "code",
   "execution_count": 33,
   "id": "f8c8b51f",
   "metadata": {},
   "outputs": [
    {
     "name": "stdout",
     "output_type": "stream",
     "text": [
      "Test accuracy:  87.75%\n"
     ]
    }
   ],
   "source": [
    "model.eval()\n",
    "with torch.no_grad():\n",
    "    total = 0\n",
    "    correct = 0\n",
    "    for i, (imgs, labels) in enumerate(test_loader):\n",
    "        preds = model(imgs)\n",
    "        preds = torch.argmax(preds, dim=1)\n",
    "        correct += (preds == labels).sum().item()\n",
    "        total += imgs.size(0)\n",
    "\n",
    "print(f\"Test accuracy: {correct / total * 100: .2f}%\")"
   ]
  },
  {
   "cell_type": "code",
   "execution_count": 36,
   "id": "26b5b74a",
   "metadata": {},
   "outputs": [
    {
     "name": "stdout",
     "output_type": "stream",
     "text": [
      "1\n"
     ]
    }
   ],
   "source": [
    "model.eval()\n",
    "with torch.no_grad():\n",
    "    pred = model(test_dataset[2][0])\n",
    "    pred = torch.argmax(pred, dim=1).item()\n",
    "    print(pred)"
   ]
  },
  {
   "cell_type": "code",
   "execution_count": 37,
   "id": "c2fffe3a",
   "metadata": {},
   "outputs": [
    {
     "data": {
      "text/plain": [
       "1"
      ]
     },
     "execution_count": 37,
     "metadata": {},
     "output_type": "execute_result"
    }
   ],
   "source": [
    "test_dataset[2][1]"
   ]
  },
  {
   "cell_type": "code",
   "execution_count": 42,
   "id": "6b97415c",
   "metadata": {},
   "outputs": [
    {
     "data": {
      "text/plain": [
       "<matplotlib.image.AxesImage at 0x7f033edfcaf0>"
      ]
     },
     "execution_count": 42,
     "metadata": {},
     "output_type": "execute_result"
    },
    {
     "data": {
      "image/png": "[encoded data removed]",
      "text/plain": [
       "<Figure size 640x480 with 1 Axes>"
      ]
     },
     "metadata": {},
     "output_type": "display_data"
    }
   ],
   "source": [
    "plt.imshow(test_dataset[2][0].squeeze(), cmap=\"gray\")"
   ]
  }
 ],
 "metadata": {
  "kernelspec": {
   "display_name": "Python 3 (ipykernel)",
   "language": "python",
   "name": "python3"
  },
  "language_info": {
   "codemirror_mode": {
    "name": "ipython",
    "version": 3
   },
   "file_extension": ".py",
   "mimetype": "text/x-python",
   "name": "python",
   "nbconvert_exporter": "python",
   "pygments_lexer": "ipython3",
   "version": "3.9.12"
  }
 },
 "nbformat": 4,
 "nbformat_minor": 5
}
