{
 "cells": [
  {
   "cell_type": "code",
   "execution_count": 1,
   "id": "fc08c0dd",
   "metadata": {},
   "outputs": [],
   "source": [
    "import numpy as np\n",
    "import torch\n",
    "import torch.nn as nn\n",
    "from torch.optim import Adam"
   ]
  },
  {
   "cell_type": "code",
   "execution_count": 2,
   "id": "05eb01f6",
   "metadata": {},
   "outputs": [],
   "source": [
    "sentence = \"I just want you for my own More than you could ever know Make my wish come true All I want for Christmas is you\"\n",
    "sequence_length = 10 # 하나의 긴 문장을 한번에 예측하는 것이 아니라, 일정한 길이를 가진 짧은 문장을 계속 예측하는 문제로 변경\n",
    "char_set = list(set(sentence))\n",
    "char_dic = {c:i for i, c in enumerate(char_set)}\n",
    "x_data = []\n",
    "y_data = []\n",
    "for i in range(len(sentence) - sequence_length):\n",
    "    x_str = sentence[i:i + sequence_length]\n",
    "    y_str = sentence[i + 1:i + 1 + sequence_length]\n",
    "    x_data.append([char_dic[c] for c in x_str])\n",
    "    y_data.append([char_dic[c] for c in y_str])\n",
    "x_one_hot = np.array([np.eye(len(char_set))[x] for x in x_data])\n",
    "X = torch.Tensor(x_one_hot)\n",
    "y = torch.LongTensor(y_data)"
   ]
  },
  {
   "cell_type": "code",
   "execution_count": 3,
   "id": "0ba291fc",
   "metadata": {},
   "outputs": [],
   "source": [
    "class Model(nn.Module):\n",
    "    def __init__(self, input_size, hidden_size, layers):\n",
    "        super(Model, self).__init__()\n",
    "        self.rnn = nn.RNN(input_size, hidden_size, layers, batch_first=True)\n",
    "        self.fc = nn.Linear(hidden_size, hidden_size, bias=True)\n",
    "    \n",
    "    def forward(self, x):\n",
    "        x, _status = self.rnn(x)\n",
    "        x = self.fc(x)\n",
    "        \n",
    "        return x"
   ]
  },
  {
   "cell_type": "code",
   "execution_count": 4,
   "id": "33dca622",
   "metadata": {},
   "outputs": [],
   "source": [
    "model = Model(len(char_set), len(char_set), 2)"
   ]
  },
  {
   "cell_type": "code",
   "execution_count": 5,
   "id": "7e0f9bc0",
   "metadata": {},
   "outputs": [
    {
     "name": "stdout",
     "output_type": "stream",
     "text": [
      "IuueeeuuelluueeeueleueueeuluueeCennlCueeeueeeuuuCeCCCuluuuuuuCCfueeleeeCeeuenueueCnuueuelluuefuueeeleelleeeeeee\n"
     ]
    }
   ],
   "source": [
    "with torch.no_grad():\n",
    "    preds = model(X)\n",
    "    predicted_str = sentence[0]\n",
    "    results = preds.argmax(dim=2)\n",
    "    for i, result in enumerate(results):\n",
    "        if i == 0:\n",
    "            predicted_str += ''.join(char_set[i] for i in result)\n",
    "        else:\n",
    "            predicted_str += char_set[result[-1]]\n",
    "    \n",
    "    print(predicted_str)"
   ]
  },
  {
   "cell_type": "code",
   "execution_count": 7,
   "id": "65605711",
   "metadata": {},
   "outputs": [],
   "source": [
    "criterion = nn.CrossEntropyLoss()\n",
    "optimizer = Adam(model.parameters(), lr=0.01)"
   ]
  },
  {
   "cell_type": "code",
   "execution_count": 8,
   "id": "0d53db91",
   "metadata": {},
   "outputs": [],
   "source": [
    "for i in range(1000):\n",
    "    optimizer.zero_grad()\n",
    "    preds = model(X)\n",
    "    loss = criterion(preds.view(-1, len(char_set)), y.view(-1))\n",
    "    loss.backward()\n",
    "    optimizer.step()"
   ]
  },
  {
   "cell_type": "code",
   "execution_count": 9,
   "id": "d21013cb",
   "metadata": {},
   "outputs": [
    {
     "name": "stdout",
     "output_type": "stream",
     "text": [
      "I wust want you for my own More than you could ever know Make my wish come true All I want for Christmas is you\n"
     ]
    }
   ],
   "source": [
    "with torch.no_grad():\n",
    "    preds = model(X)\n",
    "    predicted_str = sentence[0]\n",
    "    results = preds.argmax(dim=2)\n",
    "    for i, result in enumerate(results):\n",
    "        if i == 0:\n",
    "            predicted_str += ''.join(char_set[i] for i in result)\n",
    "        else:\n",
    "            predicted_str += char_set[result[-1]]\n",
    "    \n",
    "    print(predicted_str)"
   ]
  }
 ],
 "metadata": {
  "kernelspec": {
   "display_name": "Python 3 (ipykernel)",
   "language": "python",
   "name": "python3"
  },
  "language_info": {
   "codemirror_mode": {
    "name": "ipython",
    "version": 3
   },
   "file_extension": ".py",
   "mimetype": "text/x-python",
   "name": "python",
   "nbconvert_exporter": "python",
   "pygments_lexer": "ipython3",
   "version": "3.9.12"
  }
 },
 "nbformat": 4,
 "nbformat_minor": 5
}
