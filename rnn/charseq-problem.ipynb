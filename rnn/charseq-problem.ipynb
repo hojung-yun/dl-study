{
 "cells": [
  {
   "cell_type": "code",
   "execution_count": 1,
   "id": "bc1ebdfc",
   "metadata": {},
   "outputs": [],
   "source": [
    "import numpy as np\n",
    "import torch\n",
    "import torch.nn as nn"
   ]
  },
  {
   "cell_type": "code",
   "execution_count": 2,
   "id": "e0bd2cdb",
   "metadata": {},
   "outputs": [],
   "source": [
    "sample = \" if you want me\"\n",
    "\n",
    "char_set = set(sample)\n",
    "input_size = len(char_set)\n",
    "char_dict = {c: i for i, c in enumerate(char_set)}\n",
    "X = torch.Tensor(np.array([np.eye(input_size)[char_dict[c]] for c in sample[:-1]])).unsqueeze(0)\n",
    "y = torch.LongTensor([[char_dict[c] for c in sample[1:]]]) # CrossEntropyLoss 계산시 정답 클래스 레이블은 정수형 자료여야 한다"
   ]
  },
  {
   "cell_type": "code",
   "execution_count": 3,
   "id": "d9dea409",
   "metadata": {},
   "outputs": [],
   "source": [
    "model = nn.RNN(input_size=input_size, hidden_size=input_size, batch_first=True)"
   ]
  },
  {
   "cell_type": "code",
   "execution_count": 4,
   "id": "5e60cd79",
   "metadata": {},
   "outputs": [
    {
     "name": "stdout",
     "output_type": "stream",
     "text": [
      " iiiiiiiiiii in\n"
     ]
    }
   ],
   "source": [
    "with torch.no_grad():\n",
    "    answer = sample[0]\n",
    "    pred, _state = model(X)\n",
    "    pred = torch.argmax(pred, dim=2).squeeze()\n",
    "    for i in pred:\n",
    "        for c in char_set:\n",
    "            if char_dict[c] == i:\n",
    "                answer += c\n",
    "    \n",
    "    print(answer)"
   ]
  },
  {
   "cell_type": "code",
   "execution_count": 5,
   "id": "dbc02287",
   "metadata": {
    "scrolled": true
   },
   "outputs": [
    {
     "name": "stdout",
     "output_type": "stream",
     "text": [
      " if you want me\n"
     ]
    }
   ],
   "source": [
    "criterion = nn.CrossEntropyLoss()\n",
    "optimizer = torch.optim.Adam(model.parameters(), lr=0.01)\n",
    "\n",
    "train_loss_list = []\n",
    "for _ in range(1000):\n",
    "    optimizer.zero_grad()\n",
    "    pred, _state = model(X)\n",
    "    loss = criterion(pred.view(-1, input_size), y.view(-1))\n",
    "    train_loss_list.append(loss.item())\n",
    "    loss.backward()\n",
    "    optimizer.step()\n",
    "    \n",
    "with torch.no_grad():\n",
    "    answer = sample[0]\n",
    "    pred, _state = model(X)\n",
    "    pred = torch.argmax(pred, dim=2).squeeze()\n",
    "    for i in pred:\n",
    "        for c in char_set:\n",
    "            if char_dict[c] == i:\n",
    "                answer += c\n",
    "    \n",
    "    print(answer)"
   ]
  },
  {
   "cell_type": "code",
   "execution_count": 6,
   "id": "0ce59158",
   "metadata": {},
   "outputs": [
    {
     "data": {
      "text/plain": [
       "[<matplotlib.lines.Line2D at 0x7f45853b30d0>]"
      ]
     },
     "execution_count": 6,
     "metadata": {},
     "output_type": "execute_result"
    },
    {
     "data": {
      "image/png": "[encoded data removed]",
      "text/plain": [
       "<Figure size 640x480 with 1 Axes>"
      ]
     },
     "metadata": {},
     "output_type": "display_data"
    }
   ],
   "source": [
    "import matplotlib.pyplot as plt\n",
    "%matplotlib inline\n",
    "\n",
    "plt.plot(train_loss_list)"
   ]
  }
 ],
 "metadata": {
  "kernelspec": {
   "display_name": "Python 3 (ipykernel)",
   "language": "python",
   "name": "python3"
  },
  "language_info": {
   "codemirror_mode": {
    "name": "ipython",
    "version": 3
   },
   "file_extension": ".py",
   "mimetype": "text/x-python",
   "name": "python",
   "nbconvert_exporter": "python",
   "pygments_lexer": "ipython3",
   "version": "3.9.12"
  }
 },
 "nbformat": 4,
 "nbformat_minor": 5
}
